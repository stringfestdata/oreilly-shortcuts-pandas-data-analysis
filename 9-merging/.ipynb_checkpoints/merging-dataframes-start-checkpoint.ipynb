{
 "cells": [
  {
   "cell_type": "code",
   "execution_count": null,
   "id": "d94440a3-3e38-464f-a5ef-5c3cad6a63f7",
   "metadata": {},
   "outputs": [],
   "source": [
    "import pandas as pd"
   ]
  },
  {
   "cell_type": "code",
   "execution_count": null,
   "id": "2b5f5c85-5185-41d5-a668-c57bb6b370f0",
   "metadata": {},
   "outputs": [],
   "source": [
    "orders_1 = pd.read_excel('orders_1.xlsx')\n",
    "orders_1.head()"
   ]
  }
 ],
 "metadata": {
  "kernelspec": {
   "display_name": "Python 3 (ipykernel)",
   "language": "python",
   "name": "python3"
  },
  "language_info": {
   "codemirror_mode": {
    "name": "ipython",
    "version": 3
   },
   "file_extension": ".py",
   "mimetype": "text/x-python",
   "name": "python",
   "nbconvert_exporter": "python",
   "pygments_lexer": "ipython3",
   "version": "3.9.18"
  }
 },
 "nbformat": 4,
 "nbformat_minor": 5
}
