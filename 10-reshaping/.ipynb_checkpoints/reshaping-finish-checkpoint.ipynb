{
 "cells": [
  {
   "cell_type": "code",
   "execution_count": 1,
   "id": "63debc10",
   "metadata": {},
   "outputs": [
    {
     "data": {
      "text/html": [
       "<div>\n",
       "<style scoped>\n",
       "    .dataframe tbody tr th:only-of-type {\n",
       "        vertical-align: middle;\n",
       "    }\n",
       "\n",
       "    .dataframe tbody tr th {\n",
       "        vertical-align: top;\n",
       "    }\n",
       "\n",
       "    .dataframe thead th {\n",
       "        text-align: right;\n",
       "    }\n",
       "</style>\n",
       "<table border=\"1\" class=\"dataframe\">\n",
       "  <thead>\n",
       "    <tr style=\"text-align: right;\">\n",
       "      <th></th>\n",
       "      <th>district</th>\n",
       "      <th>M</th>\n",
       "      <th>R</th>\n",
       "      <th>S</th>\n",
       "    </tr>\n",
       "  </thead>\n",
       "  <tbody>\n",
       "    <tr>\n",
       "      <th>0</th>\n",
       "      <td>Fox Chapel</td>\n",
       "      <td>473</td>\n",
       "      <td>447</td>\n",
       "      <td>460</td>\n",
       "    </tr>\n",
       "    <tr>\n",
       "      <th>1</th>\n",
       "      <td>Tuscarora</td>\n",
       "      <td>536</td>\n",
       "      <td>450</td>\n",
       "      <td>493</td>\n",
       "    </tr>\n",
       "    <tr>\n",
       "      <th>2</th>\n",
       "      <td>Sautee Nacoochee</td>\n",
       "      <td>463</td>\n",
       "      <td>439</td>\n",
       "      <td>451</td>\n",
       "    </tr>\n",
       "    <tr>\n",
       "      <th>3</th>\n",
       "      <td>Fort Peck</td>\n",
       "      <td>559</td>\n",
       "      <td>448</td>\n",
       "      <td>504</td>\n",
       "    </tr>\n",
       "    <tr>\n",
       "      <th>4</th>\n",
       "      <td>North Pole</td>\n",
       "      <td>489</td>\n",
       "      <td>447</td>\n",
       "      <td>468</td>\n",
       "    </tr>\n",
       "  </tbody>\n",
       "</table>\n",
       "</div>"
      ],
      "text/plain": [
       "           district    M    R    S\n",
       "0        Fox Chapel  473  447  460\n",
       "1         Tuscarora  536  450  493\n",
       "2  Sautee Nacoochee  463  439  451\n",
       "3         Fort Peck  559  448  504\n",
       "4        North Pole  489  447  468"
      ]
     },
     "execution_count": 1,
     "metadata": {},
     "output_type": "execute_result"
    }
   ],
   "source": [
    "import pandas as pd\n",
    "\n",
    "test_scores = pd.read_excel('test_scores.xlsx')\n",
    "test_scores.head()"
   ]
  },
  {
   "cell_type": "code",
   "execution_count": 2,
   "id": "c7293432",
   "metadata": {},
   "outputs": [
    {
     "data": {
      "text/html": [
       "<div>\n",
       "<style scoped>\n",
       "    .dataframe tbody tr th:only-of-type {\n",
       "        vertical-align: middle;\n",
       "    }\n",
       "\n",
       "    .dataframe tbody tr th {\n",
       "        vertical-align: top;\n",
       "    }\n",
       "\n",
       "    .dataframe thead th {\n",
       "        text-align: right;\n",
       "    }\n",
       "</style>\n",
       "<table border=\"1\" class=\"dataframe\">\n",
       "  <thead>\n",
       "    <tr style=\"text-align: right;\">\n",
       "      <th></th>\n",
       "      <th>district</th>\n",
       "      <th>test_type</th>\n",
       "      <th>score</th>\n",
       "    </tr>\n",
       "  </thead>\n",
       "  <tbody>\n",
       "    <tr>\n",
       "      <th>0</th>\n",
       "      <td>Fox Chapel</td>\n",
       "      <td>M</td>\n",
       "      <td>473</td>\n",
       "    </tr>\n",
       "    <tr>\n",
       "      <th>1</th>\n",
       "      <td>Tuscarora</td>\n",
       "      <td>M</td>\n",
       "      <td>536</td>\n",
       "    </tr>\n",
       "    <tr>\n",
       "      <th>2</th>\n",
       "      <td>Sautee Nacoochee</td>\n",
       "      <td>M</td>\n",
       "      <td>463</td>\n",
       "    </tr>\n",
       "    <tr>\n",
       "      <th>3</th>\n",
       "      <td>Fort Peck</td>\n",
       "      <td>M</td>\n",
       "      <td>559</td>\n",
       "    </tr>\n",
       "    <tr>\n",
       "      <th>4</th>\n",
       "      <td>North Pole</td>\n",
       "      <td>M</td>\n",
       "      <td>489</td>\n",
       "    </tr>\n",
       "  </tbody>\n",
       "</table>\n",
       "</div>"
      ],
      "text/plain": [
       "           district test_type  score\n",
       "0        Fox Chapel         M    473\n",
       "1         Tuscarora         M    536\n",
       "2  Sautee Nacoochee         M    463\n",
       "3         Fort Peck         M    559\n",
       "4        North Pole         M    489"
      ]
     },
     "execution_count": 2,
     "metadata": {},
     "output_type": "execute_result"
    }
   ],
   "source": [
    "scores_pivot = pd.melt(frame=test_scores, id_vars = 'district', \n",
    "        value_vars=['M', 'R', 'S'], value_name='score', var_name='test_type')\n",
    "scores_pivot.head()"
   ]
  },
  {
   "cell_type": "code",
   "execution_count": 3,
   "id": "70f40b6d",
   "metadata": {},
   "outputs": [
    {
     "data": {
      "text/plain": [
       "array(['M', 'R', 'S'], dtype=object)"
      ]
     },
     "execution_count": 3,
     "metadata": {},
     "output_type": "execute_result"
    }
   ],
   "source": [
    "scores_pivot['test_type'].unique()"
   ]
  },
  {
   "cell_type": "code",
   "execution_count": 4,
   "id": "9fbcc3f7",
   "metadata": {},
   "outputs": [
    {
     "data": {
      "text/plain": [
       "array(['math', 'reading', 'science'], dtype=object)"
      ]
     },
     "execution_count": 4,
     "metadata": {},
     "output_type": "execute_result"
    }
   ],
   "source": [
    "mapping = {'M':'math','R':'reading', 'S':'science'}\n",
    "scores_pivot['test_type'] = scores_pivot['test_type'].map(mapping)\n",
    "\n",
    "\n",
    "scores_pivot['test_type'].unique()"
   ]
  },
  {
   "cell_type": "code",
   "execution_count": 10,
   "id": "6ce2c71d",
   "metadata": {},
   "outputs": [
    {
     "data": {
      "text/html": [
       "<div>\n",
       "<style scoped>\n",
       "    .dataframe tbody tr th:only-of-type {\n",
       "        vertical-align: middle;\n",
       "    }\n",
       "\n",
       "    .dataframe tbody tr th {\n",
       "        vertical-align: top;\n",
       "    }\n",
       "\n",
       "    .dataframe thead th {\n",
       "        text-align: right;\n",
       "    }\n",
       "</style>\n",
       "<table border=\"1\" class=\"dataframe\">\n",
       "  <thead>\n",
       "    <tr style=\"text-align: right;\">\n",
       "      <th>test_type</th>\n",
       "      <th>math</th>\n",
       "      <th>reading</th>\n",
       "      <th>science</th>\n",
       "    </tr>\n",
       "    <tr>\n",
       "      <th>district</th>\n",
       "      <th></th>\n",
       "      <th></th>\n",
       "      <th></th>\n",
       "    </tr>\n",
       "  </thead>\n",
       "  <tbody>\n",
       "    <tr>\n",
       "      <th>Aguadilla</th>\n",
       "      <td>513</td>\n",
       "      <td>416</td>\n",
       "      <td>465</td>\n",
       "    </tr>\n",
       "    <tr>\n",
       "      <th>Amalga</th>\n",
       "      <td>506</td>\n",
       "      <td>433</td>\n",
       "      <td>470</td>\n",
       "    </tr>\n",
       "    <tr>\n",
       "      <th>Angier</th>\n",
       "      <td>444</td>\n",
       "      <td>411</td>\n",
       "      <td>428</td>\n",
       "    </tr>\n",
       "    <tr>\n",
       "      <th>Arenzville</th>\n",
       "      <td>405</td>\n",
       "      <td>410</td>\n",
       "      <td>408</td>\n",
       "    </tr>\n",
       "    <tr>\n",
       "      <th>Asheville</th>\n",
       "      <td>489</td>\n",
       "      <td>433</td>\n",
       "      <td>461</td>\n",
       "    </tr>\n",
       "    <tr>\n",
       "      <th>...</th>\n",
       "      <td>...</td>\n",
       "      <td>...</td>\n",
       "      <td>...</td>\n",
       "    </tr>\n",
       "    <tr>\n",
       "      <th>Waldenburg</th>\n",
       "      <td>500</td>\n",
       "      <td>451</td>\n",
       "      <td>476</td>\n",
       "    </tr>\n",
       "    <tr>\n",
       "      <th>Whitley Gardens</th>\n",
       "      <td>423</td>\n",
       "      <td>395</td>\n",
       "      <td>409</td>\n",
       "    </tr>\n",
       "    <tr>\n",
       "      <th>Wiley</th>\n",
       "      <td>626</td>\n",
       "      <td>465</td>\n",
       "      <td>546</td>\n",
       "    </tr>\n",
       "    <tr>\n",
       "      <th>Woodlyn</th>\n",
       "      <td>454</td>\n",
       "      <td>421</td>\n",
       "      <td>438</td>\n",
       "    </tr>\n",
       "    <tr>\n",
       "      <th>Worton</th>\n",
       "      <td>463</td>\n",
       "      <td>402</td>\n",
       "      <td>433</td>\n",
       "    </tr>\n",
       "  </tbody>\n",
       "</table>\n",
       "<p>100 rows × 3 columns</p>\n",
       "</div>"
      ],
      "text/plain": [
       "test_type        math  reading  science\n",
       "district                               \n",
       "Aguadilla         513      416      465\n",
       "Amalga            506      433      470\n",
       "Angier            444      411      428\n",
       "Arenzville        405      410      408\n",
       "Asheville         489      433      461\n",
       "...               ...      ...      ...\n",
       "Waldenburg        500      451      476\n",
       "Whitley Gardens   423      395      409\n",
       "Wiley             626      465      546\n",
       "Woodlyn           454      421      438\n",
       "Worton            463      402      433\n",
       "\n",
       "[100 rows x 3 columns]"
      ]
     },
     "execution_count": 10,
     "metadata": {},
     "output_type": "execute_result"
    }
   ],
   "source": [
    "scores_pivot.pivot_table(index='district', \n",
    "                       columns='test_type', values='score')"
   ]
  },
  {
   "cell_type": "code",
   "execution_count": null,
   "id": "4ad343de",
   "metadata": {},
   "outputs": [],
   "source": []
  }
 ],
 "metadata": {
  "kernelspec": {
   "display_name": "Python 3 (ipykernel)",
   "language": "python",
   "name": "python3"
  },
  "language_info": {
   "codemirror_mode": {
    "name": "ipython",
    "version": 3
   },
   "file_extension": ".py",
   "mimetype": "text/x-python",
   "name": "python",
   "nbconvert_exporter": "python",
   "pygments_lexer": "ipython3",
   "version": "3.9.12"
  }
 },
 "nbformat": 4,
 "nbformat_minor": 5
}
